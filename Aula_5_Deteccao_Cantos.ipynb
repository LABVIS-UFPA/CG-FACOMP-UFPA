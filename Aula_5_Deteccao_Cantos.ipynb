{
 "cells": [
  {
   "cell_type": "markdown",
   "metadata": {
    "slideshow": {
     "slide_type": "slide"
    }
   },
   "source": [
    "# Detecção de Cantos\n",
    "\n",
    "Prof. Dr. Gustavo Resque  \n",
    "MSc. Tiago Araújo"
   ]
  },
  {
   "cell_type": "markdown",
   "metadata": {},
   "source": [
    "### Cantos"
   ]
  },
  {
   "cell_type": "markdown",
   "metadata": {},
   "source": [
    "exemplo de imagem para cantos, região homogênea e borda (np.zeros e np.ones) (ver rotação e escala widget)  \n",
    "exemplo com imagem_canto"
   ]
  },
  {
   "cell_type": "markdown",
   "metadata": {},
   "source": [
    "### Moravec"
   ]
  },
  {
   "cell_type": "markdown",
   "metadata": {},
   "source": [
    "fórmula  \n",
    "explicar os elementos da fórmula (?)   \n",
    "exemplo binário  \n",
    "exemplo grayscale (?)  \n",
    "widget para (tamanho da janela, threshold)\n",
    "exemplo em canto_imagem - mostrar falhas e mapa"
   ]
  },
  {
   "cell_type": "markdown",
   "metadata": {},
   "source": [
    "### Harris - Matriz Hessiana, auto valores"
   ]
  },
  {
   "cell_type": "markdown",
   "metadata": {},
   "source": [
    "fórmula  \n",
    "explicar os elementos da fórmula (?)   \n",
    "widget para (tamanho da janela, threshold)  \n",
    "exemplo em canto_imagem - mostrar falhas e mapa"
   ]
  },
  {
   "cell_type": "markdown",
   "metadata": {},
   "source": [
    "### FAST"
   ]
  },
  {
   "cell_type": "markdown",
   "metadata": {},
   "source": [
    "método  \n",
    "exemplo grayscale (?)   \n",
    "widget para (tamanho da janela, threshold)   \n",
    "exemplo em canto_imagem - mostrar falhas e mapa"
   ]
  },
  {
   "cell_type": "markdown",
   "metadata": {},
   "source": []
  }
 ],
 "metadata": {
  "kernelspec": {
   "display_name": "Python 3",
   "language": "python",
   "name": "python3"
  },
  "language_info": {
   "codemirror_mode": {
    "name": "ipython",
    "version": 3
   },
   "file_extension": ".py",
   "mimetype": "text/x-python",
   "name": "python",
   "nbconvert_exporter": "python",
   "pygments_lexer": "ipython3",
   "version": "3.6.5"
  }
 },
 "nbformat": 4,
 "nbformat_minor": 2
}
